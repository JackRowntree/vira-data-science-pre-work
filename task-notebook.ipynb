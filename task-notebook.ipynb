{
 "cells": [
  {
   "cell_type": "markdown",
   "metadata": {},
   "source": [
    "## Summary \n",
    "\n",
    "Thank you for your interest in Vira Health's data science work!  \n",
    "\n",
    "This jupyter notebook contains instructions for a short task which will give you an insight into some of what Vira Health is working on.   \n",
    "\n",
    "The task is structured around identifying what baseline factors might predict a woman's future menopausal symptoms.  \n",
    "\n",
    "Data provided is courtesy of the Study of Women's Health Across the Nation (SWAN) and is publically available from their [website](https://www.swanstudy.org/).      \n",
    "\n",
    "Additional documentation can be found in the ICPSR data repository [here](https://www.icpsr.umich.edu/web/ICPSR/series/00253) and may be helpful to support completion of the task.  "
   ]
  },
  {
   "cell_type": "markdown",
   "metadata": {},
   "source": [
    "## Step 1: Data exploration \n",
    "\n",
    "The /data folder includes data from a questionnaire collected at baseline (\"swan_1996_97_baseline.csv\") and two annual follow-up visits (\"swan_1997_99_visit1.csv\", \"swan_1998_00_visit2.csv\").  \n",
    "\n",
    "Documentation for the baseline visit with details of the questionnaire and variables referenced is also included in the /data folder as \"baseline-visit-codebook-PI.pdf\".  \n",
    "\n",
    "As a first step, please load in the data and conduct whatever exploration you need to answer the question - **\"What are the key characteristics of these datasets?\"**.   \n",
    "\n",
    "To help focus, remember that the overall aim of the task is to **identify what baseline factors might predict a woman's future menopausal symptoms**.    \n",
    "\n",
    "Example exploration could include answering sub-questions such as, what is the size of each sample? how many participants have data in all follow-up visits?  \n",
    "\n",
    "Please include inline code comments or markdown to explain your approach.  \n",
    "\n",
    "Note, this exploration is not expected to be comprehensive, but if there are further analyses you would conduct to help you understand these datasets please include them in your commentary and explain what you would do.    "
   ]
  },
  {
   "cell_type": "code",
   "execution_count": 1,
   "metadata": {},
   "outputs": [],
   "source": [
    "###CODE AND EXHIBITS HERE"
   ]
  },
  {
   "cell_type": "markdown",
   "metadata": {},
   "source": [
    "## Step 2: Data modeling and evaluation\n",
    "\n",
    "Now you have a basic understanding of the data, the next step is to start trying to answer the question - **\"What baseline factors might predict a woman's future menopausal symptoms?\"**.  \n",
    "\n",
    "##### To help simplify this task, please use the following guidelines:\n",
    "- The outcome variable to represent \"future menopausal symptoms\" is the sum of the recorded scores for question D1 (in baseline survey - self-administered questionnaire part A) on common symptoms experienced in the last 2 weeks. The list below includes only symptom variable names available in the baseline and the 2 follow-up visit datasets.  \n",
    "  ```[\"VAGINDR\",\"FEELBLU\", \"DIZZY\",\"FORGET\", \"MOODCHG\", \"HARTRAC\", \"FEARFULA\", \"HDACHE\", \"STIFF\", \"COLDSWE\", \"NITESWE\", \"IRRITAB\", \"NRVOUS\", \"HOTFLAS\"]```  \n",
    "  \n",
    "  You can choose how you want to model this composite outcome variable across multiple visits but you do not need to include or test other symptom measures.  \n",
    "\n",
    "- Only select input variables that could feasibly be collected in an online only questionnaire, for example, age, ethnicity and smoking status.  \n",
    "- Test no more than 3 types of models.  We are most interested in seeing how you approach this task rather than attempting to find a brute force solution.  \n",
    "\n",
    "This step will require further data preparation alongside data modeling and evaluation. Here, evaluation means assessing the performance of your model **and** how the outcomes of your analysis address the question.  \n",
    "We have included modeling and evaluation in one step here to give you the option to conduct model fitting / training and evaluation in parallel.  \n",
    "\n",
    "As in step 1, please include inline code comments or markdown to explain your approach and add written detail for what else you would do that you haven't included here.   "
   ]
  },
  {
   "cell_type": "code",
   "execution_count": null,
   "metadata": {},
   "outputs": [],
   "source": [
    "###CODE AND EXHIBITS HERE"
   ]
  }
 ],
 "metadata": {
  "kernelspec": {
   "display_name": "Python 3",
   "language": "python",
   "name": "python3"
  },
  "language_info": {
   "codemirror_mode": {
    "name": "ipython",
    "version": 3
   },
   "file_extension": ".py",
   "mimetype": "text/x-python",
   "name": "python",
   "nbconvert_exporter": "python",
   "pygments_lexer": "ipython3",
   "version": "3.8.3"
  }
 },
 "nbformat": 4,
 "nbformat_minor": 4
}
