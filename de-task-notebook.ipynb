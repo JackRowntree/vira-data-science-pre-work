{
 "cells": [
  {
   "cell_type": "markdown",
   "metadata": {},
   "source": [
    "## Summary \n",
    "\n",
    "Thank you for your interest in Vira Health's data science team!  \n",
    "\n",
    "This jupyter notebook contains instructions for a short task which will give you an insight into some of what Vira Health is working on.   \n",
    "\n",
    "The task is structured around building a simple 1 page dashboard that summarises what you think are the key characteristics of the datasets provided.  \n",
    "\n",
    "Data provided is courtesy of the Study of Women's Health Across the Nation (SWAN) and is publically available from their [website](https://www.swanstudy.org/).      \n",
    "\n",
    "Additional documentation can be found in the ICPSR data repository [here](https://www.icpsr.umich.edu/web/ICPSR/series/00253) and may be helpful to support completion of the task.  "
   ]
  },
  {
   "cell_type": "markdown",
   "metadata": {},
   "source": [
    "## Step 1: Data exploration \n",
    "\n",
    "The /data folder includes data from a questionnaire collected at baseline (\"swan_1996_97_baseline.csv\") and two annual follow-up visits (\"swan_1997_99_visit1.csv\", \"swan_1998_00_visit2.csv\").  \n",
    "\n",
    "Documentation for the baseline visit with details of the questionnaire and variables referenced is also included in the /data folder as \"baseline-visit-codebook-PI.pdf\".  \n",
    "\n",
    "As a first step, please load in the data in this python notebook and conduct whatever exploration you need to decide - **\"What are the key characteristics of these datasets?\"**.   \n",
    "\n",
    "To help focus, remember that the overall aim of the task is to **build a simple 1 page dashboard that summarises the key characteristics of the datasets**.    \n",
    "\n",
    "Example exploration could include answering sub-questions such as, what is the size of each sample? how many participants have data in all follow-up visits?  \n",
    "\n",
    "Please include inline code comments or markdown to explain your approach.  \n",
    "\n",
    "Note, this exploration is not expected to be comprehensive, but if there are further analyses you would conduct to help you understand these datasets please include them in your commentary and explain what you would do.    "
   ]
  },
  {
   "cell_type": "code",
   "execution_count": 1,
   "metadata": {},
   "outputs": [],
   "source": [
    "###CODE AND EXHIBITS HERE"
   ]
  },
  {
   "cell_type": "markdown",
   "metadata": {},
   "source": [
    "## Step 2: Data aggregation and presentation\n",
    "\n",
    "Now you have a basic understanding of the data, the next step is to **build a simple 1 page dashboard that summarises the key characteristics of the datasets**.  \n",
    "\n",
    "For this task, you will need to consider the following areas: \n",
    "- How to aggregate the 3 datasets into one data structure (e.g. a database) that can be queried (with your chosen programming language) \n",
    "- What exhibits to display\n",
    "- How to transform the data for the selected exhibits\n",
    "- How to host the dashboard (note: the dashboard does not require a public URL, you can demo on your local machine)\n",
    "\n",
    "##### To help simplify this task, please use the following guidelines:\n",
    "- Stick to a 1 page layout and do not try and prepare more than 6 exhibits \n",
    "- Don't worry about 'perfect' styling - we understand this can take a lot of time and we're most interested in your overall approach and the core components of your implementation \n",
    "\n",
    "Your implementation will likely require writing code outside of the Jupyter notebook environment.  \n",
    "So, in this notebook please just provide a summary of your approach and add written detail for what else you would do that you haven't included.    \n",
    "As in step 1, in your written code, please include inline code comments or markdown to explain your approach.  "
   ]
  },
  {
   "cell_type": "code",
   "execution_count": null,
   "metadata": {},
   "outputs": [],
   "source": [
    "###SUMMARY OF APPROACH HERE"
   ]
  }
 ],
 "metadata": {
  "kernelspec": {
   "display_name": "Python 3 (ipykernel)",
   "language": "python",
   "name": "python3"
  },
  "language_info": {
   "codemirror_mode": {
    "name": "ipython",
    "version": 3
   },
   "file_extension": ".py",
   "mimetype": "text/x-python",
   "name": "python",
   "nbconvert_exporter": "python",
   "pygments_lexer": "ipython3",
   "version": "3.10.9"
  }
 },
 "nbformat": 4,
 "nbformat_minor": 4
}
